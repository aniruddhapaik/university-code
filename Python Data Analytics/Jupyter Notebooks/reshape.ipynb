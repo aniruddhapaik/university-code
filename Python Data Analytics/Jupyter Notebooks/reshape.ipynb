{
 "cells": [
  {
   "cell_type": "code",
   "execution_count": 2,
   "metadata": {},
   "outputs": [
    {
     "name": "stdout",
     "output_type": "stream",
     "text": [
      "Dataframe is:\n",
      "    Id  Age  Mark\n",
      "0   1   13    80\n",
      "1   2   14    90\n",
      "2   3   13    85 \n",
      "\n",
      "  variable  value\n",
      "0       Id      1\n",
      "1       Id      2\n",
      "2       Id      3\n",
      "3      Age     13\n",
      "4      Age     14\n",
      "5      Age     13\n",
      "6     Mark     80\n",
      "7     Mark     90\n",
      "8     Mark     85\n"
     ]
    }
   ],
   "source": [
    "import pandas as pd\n",
    "df = pd.DataFrame({'Id':[1,2,3],'Age':[13,14,13],'Mark':[80,90,85]})\n",
    "print(\"Dataframe is:\\n\",df,\"\\n\")\n",
    "print(df.melt())"
   ]
  },
  {
   "cell_type": "code",
   "execution_count": null,
   "metadata": {},
   "outputs": [
    {
     "name": "stdout",
     "output_type": "stream",
     "text": [
      "Dataframe is:\n",
      "    Id  Age  Mark\n",
      "0   1   13    80\n",
      "1   2   14    90\n",
      "2   3   13    85 \n",
      "\n",
      "         0\n",
      "0 Id     1\n",
      "  Age   13\n",
      "  Mark  80\n",
      "1 Id     2\n",
      "  Age   14\n",
      "  Mark  90\n",
      "2 Id     3\n",
      "  Age   13\n",
      "  Mark  85 \n",
      "\n",
      "0  Id       1\n",
      "   Age     13\n",
      "   Mark    80\n",
      "1  Id       2\n",
      "   Age     14\n",
      "   Mark    90\n",
      "2  Id       3\n",
      "   Age     13\n",
      "   Mark    85\n",
      "dtype: int64 \n",
      "\n"
     ]
    }
   ],
   "source": [
    "import pandas as pd\n",
    "df = pd.DataFrame({'Id':[1,2,3],'Age':[13,14,13],'Mark':[80,90,85]})\n",
    "print(\"Dataframe is:\\n\",df,'\\n')\n",
    "print(df.stack().to_frame(),'\\n')\n",
    "print(df.stack(),'\\n')"
   ]
  },
  {
   "cell_type": "code",
   "execution_count": 3,
   "metadata": {},
   "outputs": [
    {
     "name": "stdout",
     "output_type": "stream",
     "text": [
      "Dataframe is:\n",
      "    Id  Age  Mark\n",
      "0   1   13    80\n",
      "1   2   14    90\n",
      "2   3   13    85 \n",
      "\n",
      "         0\n",
      "Id   0   1\n",
      "     1   2\n",
      "     2   3\n",
      "Age  0  13\n",
      "     1  14\n",
      "     2  13\n",
      "Mark 0  80\n",
      "     1  90\n",
      "     2  85 \n",
      "\n",
      "Id    0     1\n",
      "      1     2\n",
      "      2     3\n",
      "Age   0    13\n",
      "      1    14\n",
      "      2    13\n",
      "Mark  0    80\n",
      "      1    90\n",
      "      2    85\n",
      "dtype: int64 \n",
      "\n"
     ]
    }
   ],
   "source": [
    "import pandas as pd\n",
    "df = pd.DataFrame({'Id':[1,2,3],'Age':[13,14,13],'Mark':[80,90,85]})\n",
    "print(\"Dataframe is:\\n\",df,'\\n')\n",
    "\n",
    "print(df.unstack().to_frame(),'\\n')\n",
    "print(df.unstack(),'\\n')"
   ]
  },
  {
   "cell_type": "code",
   "execution_count": 11,
   "metadata": {},
   "outputs": [
    {
     "name": "stdout",
     "output_type": "stream",
     "text": [
      "DataFrame is :\n",
      "    id  Age  Mark\n",
      "0   1   13    80\n",
      "1   2   14    90\n",
      "2   3   15    85\n",
      "\n",
      "After pivot() operation (ID) :\n",
      "      Age              Mark            \n",
      "id     1     2     3     1     2     3\n",
      "0   13.0   NaN   NaN  80.0   NaN   NaN\n",
      "1    NaN  14.0   NaN   NaN  90.0   NaN\n",
      "2    NaN   NaN  15.0   NaN   NaN  85.0\n",
      "\n",
      "After pivot() operation (Age):\n",
      "       id            Mark            \n",
      "Age   13   14   15    13    14    15\n",
      "0    1.0  NaN  NaN  80.0   NaN   NaN\n",
      "1    NaN  2.0  NaN   NaN  90.0   NaN\n",
      "2    NaN  NaN  3.0   NaN   NaN  85.0\n",
      "\n",
      "After pivot() operation (Mark):\n",
      "        id             Age            \n",
      "Mark   80   85   90    80    85    90\n",
      "0     1.0  NaN  NaN  13.0   NaN   NaN\n",
      "1     NaN  NaN  2.0   NaN   NaN  14.0\n",
      "2     NaN  3.0  NaN   NaN  15.0   NaN\n"
     ]
    }
   ],
   "source": [
    "import pandas as pd\n",
    "df = pd.DataFrame({\n",
    "  'id':[1,2,3],\n",
    "  'Age':[13,14,15],\n",
    "  'Mark':[80,90,85]\n",
    "})\n",
    "\n",
    "print(\"DataFrame is :\\n\", df)\n",
    "print(\"\\nAfter pivot() operation (ID) :\\n\",df.pivot(columns=\"id\"))\n",
    "print(\"\\nAfter pivot() operation (Age):\\n\",df.pivot(columns=\"Age\"))\n",
    "print(\"\\nAfter pivot() operation (Mark):\\n\",df.pivot(columns=\"Mark\"))"
   ]
  },
  {
   "cell_type": "code",
   "execution_count": 17,
   "metadata": {},
   "outputs": [
    {
     "name": "stdout",
     "output_type": "stream",
     "text": [
      "df: \n",
      "   Countries                Metrics  Values\n",
      "0       Ark  Population in Million     100\n",
      "1      Bora  Population in Million     200\n",
      "2     Cakon  Population in Million     120\n",
      "3       Ark         GDP per Capita    2000\n",
      "4      Bora         GDP per Capita    7000\n",
      "5     Cakon         GDP per Capita   15000 \n",
      "\n",
      "df2: \n",
      " Metrics    GDP per Capita  Population in Million\n",
      "Countries                                       \n",
      "Ark                  2000                    100\n",
      "Bora                 7000                    200\n",
      "Cakon               15000                    120 \n",
      "\n"
     ]
    }
   ],
   "source": [
    "import pandas as pd\n",
    "\n",
    "d = {\n",
    "  'Countries':['Ark','Bora','Cakon','Ark','Bora','Cakon'],\n",
    "  'Metrics':['Population in Million','Population in Million','Population in Million', \n",
    "             'GDP per Capita',       'GDP per Capita',       'GDP per Capita'],\n",
    "  'Values':[100,200,120,2000,7000,15000]\n",
    "}\n",
    "\n",
    "df = pd.DataFrame(d)\n",
    "print(\"df: \\n\", df,'\\n')\n",
    "\n",
    "df2 = df.pivot(index='Countries', columns='Metrics', values='Values')\n",
    "print(\"df2: \\n\", df2, '\\n')"
   ]
  }
 ],
 "metadata": {
  "kernelspec": {
   "display_name": "Python 3",
   "language": "python",
   "name": "python3"
  },
  "language_info": {
   "codemirror_mode": {
    "name": "ipython",
    "version": 3
   },
   "file_extension": ".py",
   "mimetype": "text/x-python",
   "name": "python",
   "nbconvert_exporter": "python",
   "pygments_lexer": "ipython3",
   "version": "3.13.2"
  }
 },
 "nbformat": 4,
 "nbformat_minor": 2
}

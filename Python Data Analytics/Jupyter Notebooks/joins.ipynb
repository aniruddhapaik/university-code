{
 "cells": [
  {
   "cell_type": "code",
   "execution_count": 1,
   "metadata": {},
   "outputs": [
    {
     "name": "stdout",
     "output_type": "stream",
     "text": [
      "   id_x  Name_x subject_id  id_y Name_y\n",
      "0     1    Alex       sub1   NaN    NaN\n",
      "1     2     Amy       sub2   1.0  Billy\n",
      "2     3   Allen       sub4   2.0  Brian\n",
      "3     4   Alice       sub6   4.0  Bryce\n",
      "4     5  Ayoung       sub5   5.0  Betty\n"
     ]
    }
   ],
   "source": [
    "import pandas as pd\n",
    "\n",
    "left = pd.DataFrame({\n",
    "  'id':[1,2,3,4,5],\n",
    "  'Name':[\"Alex\", \"Amy\", \"Allen\", \"Alice\", \"Ayoung\"],\n",
    "  'subject_id':['sub1','sub2','sub4','sub6','sub5']\n",
    "})\n",
    "\n",
    "right = pd.DataFrame({\n",
    "  'id':[1,2,3,4,5],\n",
    "  'Name':[\"Billy\", \"Brian\", \"Bran\", \"Bryce\", \"Betty\"],\n",
    "  'subject_id':['sub2','sub4','sub3','sub6','sub5']\n",
    "})\n",
    "\n",
    "print(pd.merge(left, right, on='subject_id', how='left'))"
   ]
  },
  {
   "cell_type": "code",
   "execution_count": 1,
   "metadata": {},
   "outputs": [
    {
     "name": "stdout",
     "output_type": "stream",
     "text": [
      "   id_x  Name_x subject_id  id_y Name_y\n",
      "0   2.0     Amy       sub2     1  Billy\n",
      "1   3.0   Allen       sub4     2  Brian\n",
      "2   NaN     NaN       sub3     3   Bran\n",
      "3   4.0   Alice       sub6     4  Bryce\n",
      "4   5.0  Ayoung       sub5     5  Betty\n"
     ]
    }
   ],
   "source": [
    "import pandas as pd\n",
    "\n",
    "left = pd.DataFrame({\n",
    "  'id':[1,2,3,4,5],\n",
    "  'Name':[\"Alex\", \"Amy\", \"Allen\", \"Alice\", \"Ayoung\"],\n",
    "  'subject_id':['sub1','sub2','sub4','sub6','sub5']\n",
    "})\n",
    "\n",
    "right = pd.DataFrame({\n",
    "  'id':[1,2,3,4,5],\n",
    "  'Name':[\"Billy\", \"Brian\", \"Bran\", \"Bryce\", \"Betty\"],\n",
    "  'subject_id':['sub2','sub4','sub3','sub6','sub5']\n",
    "})\n",
    "\n",
    "print(pd.merge(left, right, on='subject_id', how='right'))"
   ]
  }
 ],
 "metadata": {
  "kernelspec": {
   "display_name": "Python 3",
   "language": "python",
   "name": "python3"
  },
  "language_info": {
   "codemirror_mode": {
    "name": "ipython",
    "version": 3
   },
   "file_extension": ".py",
   "mimetype": "text/x-python",
   "name": "python",
   "nbconvert_exporter": "python",
   "pygments_lexer": "ipython3",
   "version": "3.11.9"
  }
 },
 "nbformat": 4,
 "nbformat_minor": 2
}

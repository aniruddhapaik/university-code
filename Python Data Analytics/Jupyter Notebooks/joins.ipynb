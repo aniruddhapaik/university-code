{
 "cells": [
  {
   "cell_type": "code",
   "execution_count": 4,
   "metadata": {},
   "outputs": [
    {
     "name": "stdout",
     "output_type": "stream",
     "text": [
      "   id  Name_x subject_id Name_y\n",
      "0   4   Alice       sub6  Bryce\n",
      "1   5  Ayoung       sub5  Betty\n"
     ]
    }
   ],
   "source": [
    "import pandas as pd\n",
    "\n",
    "left = pd.DataFrame({\n",
    "  'id':[1,2,3,4,5],\n",
    "  'Name': ['Alex', 'Amy', 'Allen', 'Alice', 'Ayoung'],\n",
    "  'subject_id':['sub1','sub2','sub4','sub6','sub5']})\n",
    "\n",
    "right = pd.DataFrame({\n",
    "  'id':[1,2,3,4,5],\n",
    "  'Name': ['Billy', 'Brian', 'Bran', 'Bryce', 'Betty'],\n",
    "  'subject_id':['sub2','sub4','sub3','sub6','sub5']})\n",
    "\n",
    "print(pd.merge(left,right,on=['id','subject_id']))\n"
   ]
  },
  {
   "cell_type": "markdown",
   "metadata": {},
   "source": [
    "## Left Outer Join"
   ]
  },
  {
   "cell_type": "code",
   "execution_count": 5,
   "metadata": {},
   "outputs": [
    {
     "name": "stdout",
     "output_type": "stream",
     "text": [
      "   id_x  Name_x subject_id  id_y Name_y\n",
      "0     1    Alex       sub1   NaN    NaN\n",
      "1     2     Amy       sub2   1.0  Billy\n",
      "2     3   Allen       sub4   2.0  Brian\n",
      "3     4   Alice       sub6   4.0  Bryce\n",
      "4     5  Ayoung       sub5   5.0  Betty\n"
     ]
    }
   ],
   "source": [
    "import pandas as pd\n",
    "\n",
    "left = pd.DataFrame({\n",
    "  'id':[1,2,3,4,5],\n",
    "  'Name':[\"Alex\", \"Amy\", \"Allen\", \"Alice\", \"Ayoung\"],\n",
    "  'subject_id':['sub1','sub2','sub4','sub6','sub5']\n",
    "})\n",
    "\n",
    "right = pd.DataFrame({\n",
    "  'id':[1,2,3,4,5],\n",
    "  'Name':[\"Billy\", \"Brian\", \"Bran\", \"Bryce\", \"Betty\"],\n",
    "  'subject_id':['sub2','sub4','sub3','sub6','sub5']\n",
    "})\n",
    "\n",
    "print(pd.merge(left, right, on='subject_id', how='left'))"
   ]
  },
  {
   "cell_type": "markdown",
   "metadata": {},
   "source": [
    "## Right Outer Join"
   ]
  },
  {
   "cell_type": "code",
   "execution_count": null,
   "metadata": {},
   "outputs": [
    {
     "name": "stdout",
     "output_type": "stream",
     "text": [
      "   id_x  Name_x subject_id  id_y Name_y\n",
      "0   2.0     Amy       sub2     1  Billy\n",
      "1   3.0   Allen       sub4     2  Brian\n",
      "2   NaN     NaN       sub3     3   Bran\n",
      "3   4.0   Alice       sub6     4  Bryce\n",
      "4   5.0  Ayoung       sub5     5  Betty\n"
     ]
    }
   ],
   "source": [
    "import pandas as pd\n",
    "\n",
    "left = pd.DataFrame({\n",
    "  'id':[1,2,3,4,5],\n",
    "  'Name':[\"Alex\", \"Amy\", \"Allen\", \"Alice\", \"Ayoung\"],\n",
    "  'subject_id':['sub1','sub2','sub4','sub6','sub5']\n",
    "})\n",
    "\n",
    "right = pd.DataFrame({\n",
    "  'id':[1,2,3,4,5],\n",
    "  'Name':[\"Billy\", \"Brian\", \"Bran\", \"Bryce\", \"Betty\"],\n",
    "  'subject_id':['sub2','sub4','sub3','sub6','sub5']\n",
    "})\n",
    "\n",
    "print(pd.merge(left, right, on='subject_id', how='right'))"
   ]
  },
  {
   "cell_type": "markdown",
   "metadata": {},
   "source": [
    "## Outer Join"
   ]
  },
  {
   "cell_type": "code",
   "execution_count": null,
   "metadata": {},
   "outputs": [
    {
     "name": "stdout",
     "output_type": "stream",
     "text": [
      "   id_x  Name_x subject_id  id_y Name_y\n",
      "0   1.0    Alex       sub1   NaN    NaN\n",
      "1   2.0     Amy       sub2   1.0  Billy\n",
      "2   NaN     NaN       sub3   3.0   Bran\n",
      "3   3.0   Allen       sub4   2.0  Brian\n",
      "4   5.0  Ayoung       sub5   5.0  Betty\n",
      "5   4.0   Alice       sub6   4.0  Bryce\n"
     ]
    }
   ],
   "source": [
    "import pandas as pd\n",
    "\n",
    "left = pd.DataFrame({\n",
    "  'id':[1,2,3,4,5],\n",
    "  'Name':[\"Alex\", \"Amy\", \"Allen\", \"Alice\", \"Ayoung\"],\n",
    "  'subject_id':['sub1','sub2','sub4','sub6','sub5']\n",
    "})\n",
    "\n",
    "right = pd.DataFrame({\n",
    "  'id':[1,2,3,4,5],\n",
    "  'Name':[\"Billy\", \"Brian\", \"Bran\", \"Bryce\", \"Betty\"],\n",
    "  'subject_id':['sub2','sub4','sub3','sub6','sub5']\n",
    "})\n",
    "\n",
    "print(pd.merge(left, right, on='subject_id', how='outer'))"
   ]
  },
  {
   "cell_type": "markdown",
   "metadata": {},
   "source": [
    "## Inner Join"
   ]
  },
  {
   "cell_type": "code",
   "execution_count": 2,
   "metadata": {},
   "outputs": [
    {
     "name": "stdout",
     "output_type": "stream",
     "text": [
      "   id_x  Name_x subject_id  id_y Name_y\n",
      "0     2     Amy       sub2     1  Billy\n",
      "1     3   Allen       sub4     2  Brian\n",
      "2     4   Alice       sub6     4  Bryce\n",
      "3     5  Ayoung       sub5     5  Betty\n"
     ]
    }
   ],
   "source": [
    "import pandas as pd\n",
    "\n",
    "left = pd.DataFrame({\n",
    "  'id':[1,2,3,4,5],\n",
    "  'Name':[\"Alex\", \"Amy\", \"Allen\", \"Alice\", \"Ayoung\"],\n",
    "  'subject_id':['sub1','sub2','sub4','sub6','sub5']\n",
    "})\n",
    "\n",
    "right = pd.DataFrame({\n",
    "  'id':[1,2,3,4,5],\n",
    "  'Name':[\"Billy\", \"Brian\", \"Bran\", \"Bryce\", \"Betty\"],\n",
    "  'subject_id':['sub2','sub4','sub3','sub6','sub5']\n",
    "})\n",
    "\n",
    "print(pd.merge(left, right, on='subject_id', how='inner'))"
   ]
  },
  {
   "cell_type": "markdown",
   "metadata": {},
   "source": [
    "## Melt to transpose"
   ]
  },
  {
   "cell_type": "code",
   "execution_count": 5,
   "metadata": {},
   "outputs": [
    {
     "name": "stdout",
     "output_type": "stream",
     "text": [
      "DataFrame is :\n",
      "    id  Age  Mark\n",
      "0   1   13    80\n",
      "1   2   14    90\n",
      "2   3   15    85 \n",
      "\n",
      "After melt() operation :\n",
      "   variable  value\n",
      "0       id      1\n",
      "1       id      2\n",
      "2       id      3\n",
      "3      Age     13\n",
      "4      Age     14\n",
      "5      Age     15\n",
      "6     Mark     80\n",
      "7     Mark     90\n",
      "8     Mark     85\n"
     ]
    }
   ],
   "source": [
    "import pandas as pd\n",
    "df = pd.DataFrame({\n",
    "  'id':[1,2,3],\n",
    "  'Age':[13,14,15],\n",
    "  'Mark':[80,90,85]\n",
    "})\n",
    "\n",
    "print(\"DataFrame is :\\n\", df,'\\n')\n",
    "print(\"After melt() operation :\\n\",df.melt())"
   ]
  },
  {
   "cell_type": "markdown",
   "metadata": {},
   "source": [
    "## Stack and Unstack"
   ]
  },
  {
   "cell_type": "code",
   "execution_count": 6,
   "metadata": {},
   "outputs": [
    {
     "name": "stdout",
     "output_type": "stream",
     "text": [
      "DataFrame is :\n",
      "    id  Age  Mark\n",
      "0   1   13    80\n",
      "1   2   14    90\n",
      "2   3   15    85\n",
      "\n",
      "After stack() operation :\n",
      "          0\n",
      "0 id     1\n",
      "  Age   13\n",
      "  Mark  80\n",
      "1 id     2\n",
      "  Age   14\n",
      "  Mark  90\n",
      "2 id     3\n",
      "  Age   15\n",
      "  Mark  85\n",
      "\n",
      "After unstack() operation :\n",
      "          0\n",
      "id   0   1\n",
      "     1   2\n",
      "     2   3\n",
      "Age  0  13\n",
      "     1  14\n",
      "     2  15\n",
      "Mark 0  80\n",
      "     1  90\n",
      "     2  85\n"
     ]
    }
   ],
   "source": [
    "import pandas as pd\n",
    "df = pd.DataFrame({\n",
    "  'id':[1,2,3],\n",
    "  'Age':[13,14,15],\n",
    "  'Mark':[80,90,85]\n",
    "})\n",
    "\n",
    "print(\"DataFrame is :\\n\", df)\n",
    "print(\"\\nAfter stack() operation :\\n\",df.stack().to_frame())\n",
    "print(\"\\nAfter unstack() operation :\\n\",df.unstack().to_frame())"
   ]
  },
  {
   "cell_type": "markdown",
   "metadata": {},
   "source": [
    "## Pivot"
   ]
  },
  {
   "cell_type": "code",
   "execution_count": 2,
   "metadata": {},
   "outputs": [
    {
     "name": "stdout",
     "output_type": "stream",
     "text": [
      "DataFrame is :\n",
      "    id  Age  Mark\n",
      "0   1   13    80\n",
      "1   2   14    90\n",
      "2   3   15    85\n",
      "\n",
      "After pivot() operation (ID) :\n",
      "      Age              Mark            \n",
      "id     1     2     3     1     2     3\n",
      "0   13.0   NaN   NaN  80.0   NaN   NaN\n",
      "1    NaN  14.0   NaN   NaN  90.0   NaN\n",
      "2    NaN   NaN  15.0   NaN   NaN  85.0\n",
      "\n",
      "After pivot() operation (Age):\n",
      "       id            Mark            \n",
      "Age   13   14   15    13    14    15\n",
      "0    1.0  NaN  NaN  80.0   NaN   NaN\n",
      "1    NaN  2.0  NaN   NaN  90.0   NaN\n",
      "2    NaN  NaN  3.0   NaN   NaN  85.0\n"
     ]
    }
   ],
   "source": [
    "import pandas as pd\n",
    "df = pd.DataFrame({\n",
    "  'id':[1,2,3],\n",
    "  'Age':[13,14,15],\n",
    "  'Mark':[80,90,85]\n",
    "})\n",
    "\n",
    "print(\"DataFrame is :\\n\", df)\n",
    "print(\"\\nAfter pivot() operation (ID) :\\n\",df.pivot(columns=\"id\"))\n",
    "print(\"\\nAfter pivot() operation (Age):\\n\",df.pivot(columns=\"Age\"))"
   ]
  },
  {
   "cell_type": "code",
   "execution_count": 5,
   "metadata": {},
   "outputs": [
    {
     "name": "stdout",
     "output_type": "stream",
     "text": [
      "df: \n",
      "   Countries                Metrics  Values\n",
      "0         A  population_in_million     100\n",
      "1         B  population_in_million     200\n",
      "2         C  population_in_million     120\n",
      "3         A         gdp_per_capita    2000\n",
      "4         B         gdp_per_capita    7000\n",
      "5         C         gdp_per_capita   15000\n",
      "df2: \n",
      " Metrics    gdp_per_capita  population_in_million\n",
      "Countries                                       \n",
      "A                    2000                    100\n",
      "B                    7000                    200\n",
      "C                   15000                    120\n"
     ]
    }
   ],
   "source": [
    "import pandas as pd\n",
    "\n",
    "d = {\n",
    "  'Countries':['A','B','C','A','B','C'],\n",
    "  'Metrics':['population_in_million','population_in_million','population_in_million',\n",
    "             'gdp_per_capita','gdp_per_capita','gdp_per_capita'],\n",
    "  'Values':[100,200,120,2000,7000,15000]\n",
    "}\n",
    "\n",
    "df = pd.DataFrame(d, columns=['Countries', 'Metrics', 'Values'])\n",
    "print(\"df: \\n\", df)\n",
    "\n",
    "df2 = df.pivot(index='Countries', columns='Metrics', values='Values')\n",
    "print(\"df2: \\n\", df2)"
   ]
  }
 ],
 "metadata": {
  "kernelspec": {
   "display_name": "Python 3",
   "language": "python",
   "name": "python3"
  },
  "language_info": {
   "codemirror_mode": {
    "name": "ipython",
    "version": 3
   },
   "file_extension": ".py",
   "mimetype": "text/x-python",
   "name": "python",
   "nbconvert_exporter": "python",
   "pygments_lexer": "ipython3",
   "version": "3.13.2"
  }
 },
 "nbformat": 4,
 "nbformat_minor": 2
}

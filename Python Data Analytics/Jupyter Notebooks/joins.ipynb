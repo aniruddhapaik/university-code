{
 "cells": [
  {
   "cell_type": "markdown",
   "metadata": {},
   "source": [
    "## Left Outer Join"
   ]
  },
  {
   "cell_type": "code",
   "execution_count": null,
   "metadata": {},
   "outputs": [
    {
     "name": "stdout",
     "output_type": "stream",
     "text": [
      "   id_x  Name_x subject_id  id_y Name_y\n",
      "0     1    Alex       sub1   NaN    NaN\n",
      "1     2     Amy       sub2   1.0  Billy\n",
      "2     3   Allen       sub4   2.0  Brian\n",
      "3     4   Alice       sub6   4.0  Bryce\n",
      "4     5  Ayoung       sub5   5.0  Betty\n"
     ]
    }
   ],
   "source": [
    "import pandas as pd\n",
    "\n",
    "left = pd.DataFrame({\n",
    "  'id':[1,2,3,4,5],\n",
    "  'Name':[\"Alex\", \"Amy\", \"Allen\", \"Alice\", \"Ayoung\"],\n",
    "  'subject_id':['sub1','sub2','sub4','sub6','sub5']\n",
    "})\n",
    "\n",
    "right = pd.DataFrame({\n",
    "  'id':[1,2,3,4,5],\n",
    "  'Name':[\"Billy\", \"Brian\", \"Bran\", \"Bryce\", \"Betty\"],\n",
    "  'subject_id':['sub2','sub4','sub3','sub6','sub5']\n",
    "})\n",
    "\n",
    "print(pd.merge(left, right, on='subject_id', how='left'))"
   ]
  },
  {
   "cell_type": "markdown",
   "metadata": {},
   "source": [
    "## Right Outer Join"
   ]
  },
  {
   "cell_type": "code",
   "execution_count": null,
   "metadata": {},
   "outputs": [
    {
     "name": "stdout",
     "output_type": "stream",
     "text": [
      "   id_x  Name_x subject_id  id_y Name_y\n",
      "0   2.0     Amy       sub2     1  Billy\n",
      "1   3.0   Allen       sub4     2  Brian\n",
      "2   NaN     NaN       sub3     3   Bran\n",
      "3   4.0   Alice       sub6     4  Bryce\n",
      "4   5.0  Ayoung       sub5     5  Betty\n"
     ]
    }
   ],
   "source": [
    "import pandas as pd\n",
    "\n",
    "left = pd.DataFrame({\n",
    "  'id':[1,2,3,4,5],\n",
    "  'Name':[\"Alex\", \"Amy\", \"Allen\", \"Alice\", \"Ayoung\"],\n",
    "  'subject_id':['sub1','sub2','sub4','sub6','sub5']\n",
    "})\n",
    "\n",
    "right = pd.DataFrame({\n",
    "  'id':[1,2,3,4,5],\n",
    "  'Name':[\"Billy\", \"Brian\", \"Bran\", \"Bryce\", \"Betty\"],\n",
    "  'subject_id':['sub2','sub4','sub3','sub6','sub5']\n",
    "})\n",
    "\n",
    "print(pd.merge(left, right, on='subject_id', how='right'))"
   ]
  },
  {
   "cell_type": "markdown",
   "metadata": {},
   "source": [
    "## Outer Join"
   ]
  },
  {
   "cell_type": "code",
   "execution_count": null,
   "metadata": {},
   "outputs": [
    {
     "name": "stdout",
     "output_type": "stream",
     "text": [
      "   id_x  Name_x subject_id  id_y Name_y\n",
      "0   1.0    Alex       sub1   NaN    NaN\n",
      "1   2.0     Amy       sub2   1.0  Billy\n",
      "2   NaN     NaN       sub3   3.0   Bran\n",
      "3   3.0   Allen       sub4   2.0  Brian\n",
      "4   5.0  Ayoung       sub5   5.0  Betty\n",
      "5   4.0   Alice       sub6   4.0  Bryce\n"
     ]
    }
   ],
   "source": [
    "import pandas as pd\n",
    "\n",
    "left = pd.DataFrame({\n",
    "  'id':[1,2,3,4,5],\n",
    "  'Name':[\"Alex\", \"Amy\", \"Allen\", \"Alice\", \"Ayoung\"],\n",
    "  'subject_id':['sub1','sub2','sub4','sub6','sub5']\n",
    "})\n",
    "\n",
    "right = pd.DataFrame({\n",
    "  'id':[1,2,3,4,5],\n",
    "  'Name':[\"Billy\", \"Brian\", \"Bran\", \"Bryce\", \"Betty\"],\n",
    "  'subject_id':['sub2','sub4','sub3','sub6','sub5']\n",
    "})\n",
    "\n",
    "print(pd.merge(left, right, on='subject_id', how='outer'))"
   ]
  },
  {
   "cell_type": "markdown",
   "metadata": {},
   "source": [
    "## Inner Join"
   ]
  },
  {
   "cell_type": "code",
   "execution_count": 2,
   "metadata": {},
   "outputs": [
    {
     "name": "stdout",
     "output_type": "stream",
     "text": [
      "   id_x  Name_x subject_id  id_y Name_y\n",
      "0     2     Amy       sub2     1  Billy\n",
      "1     3   Allen       sub4     2  Brian\n",
      "2     4   Alice       sub6     4  Bryce\n",
      "3     5  Ayoung       sub5     5  Betty\n"
     ]
    }
   ],
   "source": [
    "import pandas as pd\n",
    "\n",
    "left = pd.DataFrame({\n",
    "  'id':[1,2,3,4,5],\n",
    "  'Name':[\"Alex\", \"Amy\", \"Allen\", \"Alice\", \"Ayoung\"],\n",
    "  'subject_id':['sub1','sub2','sub4','sub6','sub5']\n",
    "})\n",
    "\n",
    "right = pd.DataFrame({\n",
    "  'id':[1,2,3,4,5],\n",
    "  'Name':[\"Billy\", \"Brian\", \"Bran\", \"Bryce\", \"Betty\"],\n",
    "  'subject_id':['sub2','sub4','sub3','sub6','sub5']\n",
    "})\n",
    "\n",
    "print(pd.merge(left, right, on='subject_id', how='inner'))"
   ]
  },
  {
   "cell_type": "markdown",
   "metadata": {},
   "source": [
    "## Melt to transpose"
   ]
  },
  {
   "cell_type": "code",
   "execution_count": 5,
   "metadata": {},
   "outputs": [
    {
     "name": "stdout",
     "output_type": "stream",
     "text": [
      "DataFrame is :\n",
      "    id  Age  Mark\n",
      "0   1   13    80\n",
      "1   2   14    90\n",
      "2   3   15    85 \n",
      "\n",
      "After melt() operation :\n",
      "   variable  value\n",
      "0       id      1\n",
      "1       id      2\n",
      "2       id      3\n",
      "3      Age     13\n",
      "4      Age     14\n",
      "5      Age     15\n",
      "6     Mark     80\n",
      "7     Mark     90\n",
      "8     Mark     85\n"
     ]
    }
   ],
   "source": [
    "import pandas as pd\n",
    "df = pd.DataFrame({\n",
    "  'id':[1,2,3],\n",
    "  'Age':[13,14,15],\n",
    "  'Mark':[80,90,85]\n",
    "})\n",
    "\n",
    "print(\"DataFrame is :\\n\", df,'\\n')\n",
    "print(\"After melt() operation :\\n\",df.melt())"
   ]
  },
  {
   "cell_type": "markdown",
   "metadata": {},
   "source": [
    "## Stack and Unstack"
   ]
  },
  {
   "cell_type": "code",
   "execution_count": null,
   "metadata": {},
   "outputs": [
    {
     "name": "stdout",
     "output_type": "stream",
     "text": [
      "DataFrame is :\n",
      "    id  Age  Mark\n",
      "0   1   13    80\n",
      "1   2   14    90\n",
      "2   3   15    85\n",
      "\n",
      "After stack() operation :\n",
      "          0\n",
      "0 id     1\n",
      "  Age   13\n",
      "  Mark  80\n",
      "1 id     2\n",
      "  Age   14\n",
      "  Mark  90\n",
      "2 id     3\n",
      "  Age   15\n",
      "  Mark  85\n",
      "\n",
      "After unstack() operation :\n",
      "          0\n",
      "id   0   1\n",
      "     1   2\n",
      "     2   3\n",
      "Age  0  13\n",
      "     1  14\n",
      "     2  15\n",
      "Mark 0  80\n",
      "     1  90\n",
      "     2  85\n",
      "\n",
      "After Double stack() operation :\n",
      "            0\n",
      "0 id   0   1\n",
      "  Age  0  13\n",
      "  Mark 0  80\n",
      "1 id   0   2\n",
      "  Age  0  14\n",
      "  Mark 0  90\n",
      "2 id   0   3\n",
      "  Age  0  15\n",
      "  Mark 0  85\n"
     ]
    }
   ],
   "source": [
    "import pandas as pd\n",
    "df = pd.DataFrame({\n",
    "  'id':[1,2,3],\n",
    "  'Age':[13,14,15],\n",
    "  'Mark':[80,90,85]\n",
    "})\n",
    "\n",
    "print(\"DataFrame is :\\n\", df)\n",
    "print(\"\\nAfter stack() operation :\\n\",df.stack().to_frame())\n",
    "print(\"\\nAfter unstack() operation :\\n\",df.unstack().to_frame())"
   ]
  },
  {
   "cell_type": "markdown",
   "metadata": {},
   "source": [
    "## Pivot"
   ]
  },
  {
   "cell_type": "code",
   "execution_count": 10,
   "metadata": {},
   "outputs": [
    {
     "name": "stdout",
     "output_type": "stream",
     "text": [
      "DataFrame is :\n",
      "    id  Age  Mark\n",
      "0   1   13    80\n",
      "1   2   14    90\n",
      "2   3   15    85\n",
      "\n",
      "After pivot() operation (ID) :\n",
      "      Age              Mark            \n",
      "id     1     2     3     1     2     3\n",
      "0   13.0   NaN   NaN  80.0   NaN   NaN\n",
      "1    NaN  14.0   NaN   NaN  90.0   NaN\n",
      "2    NaN   NaN  15.0   NaN   NaN  85.0\n",
      "\n",
      "After pivot() operation (Age):\n",
      "       id            Mark            \n",
      "Age   13   14   15    13    14    15\n",
      "0    1.0  NaN  NaN  80.0   NaN   NaN\n",
      "1    NaN  2.0  NaN   NaN  90.0   NaN\n",
      "2    NaN  NaN  3.0   NaN   NaN  85.0\n"
     ]
    }
   ],
   "source": [
    "import pandas as pd\n",
    "df = pd.DataFrame({\n",
    "  'id':[1,2,3],\n",
    "  'Age':[13,14,15],\n",
    "  'Mark':[80,90,85]\n",
    "})\n",
    "\n",
    "print(\"DataFrame is :\\n\", df)\n",
    "print(\"\\nAfter pivot() operation (ID) :\\n\",df.pivot(columns=\"id\"))\n",
    "print(\"\\nAfter pivot() operation (Age):\\n\",df.pivot(columns=\"Age\"))"
   ]
  },
  {
   "cell_type": "code",
   "execution_count": 12,
   "metadata": {},
   "outputs": [
    {
     "ename": "ValueError",
     "evalue": "All arrays must be of the same length",
     "output_type": "error",
     "traceback": [
      "\u001b[1;31m---------------------------------------------------------------------------\u001b[0m",
      "\u001b[1;31mValueError\u001b[0m                                Traceback (most recent call last)",
      "Cell \u001b[1;32mIn[12], line 10\u001b[0m\n\u001b[0;32m      1\u001b[0m \u001b[38;5;28;01mimport\u001b[39;00m\u001b[38;5;250m \u001b[39m\u001b[38;5;21;01mpandas\u001b[39;00m\u001b[38;5;250m \u001b[39m\u001b[38;5;28;01mas\u001b[39;00m\u001b[38;5;250m \u001b[39m\u001b[38;5;21;01mpd\u001b[39;00m\n\u001b[0;32m      3\u001b[0m d \u001b[38;5;241m=\u001b[39m {\n\u001b[0;32m      4\u001b[0m   \u001b[38;5;124m'\u001b[39m\u001b[38;5;124mCountries\u001b[39m\u001b[38;5;124m'\u001b[39m:[\u001b[38;5;124m'\u001b[39m\u001b[38;5;124mA\u001b[39m\u001b[38;5;124m'\u001b[39m,\u001b[38;5;124m'\u001b[39m\u001b[38;5;124mB\u001b[39m\u001b[38;5;124m'\u001b[39m,\u001b[38;5;124m'\u001b[39m\u001b[38;5;124mC\u001b[39m\u001b[38;5;124m'\u001b[39m,\u001b[38;5;124m'\u001b[39m\u001b[38;5;124mA\u001b[39m\u001b[38;5;124m'\u001b[39m,\u001b[38;5;124m'\u001b[39m\u001b[38;5;124mB\u001b[39m\u001b[38;5;124m'\u001b[39m,\u001b[38;5;124m'\u001b[39m\u001b[38;5;124mC\u001b[39m\u001b[38;5;124m'\u001b[39m],\n\u001b[0;32m      5\u001b[0m   \u001b[38;5;124m'\u001b[39m\u001b[38;5;124mMetrics\u001b[39m\u001b[38;5;124m'\u001b[39m:[\u001b[38;5;124m'\u001b[39m\u001b[38;5;124mpopulation_in_million\u001b[39m\u001b[38;5;124m'\u001b[39m,\u001b[38;5;124m'\u001b[39m\u001b[38;5;124mpopulation_in_million\u001b[39m\u001b[38;5;124m'\u001b[39m,\u001b[38;5;124m'\u001b[39m\u001b[38;5;124mpopulation_in_million\u001b[39m\u001b[38;5;124m'\u001b[39m,\n\u001b[0;32m      6\u001b[0m              \u001b[38;5;124m'\u001b[39m\u001b[38;5;124mgdp_per_capita\u001b[39m\u001b[38;5;124m'\u001b[39m,\u001b[38;5;124m'\u001b[39m\u001b[38;5;124mgdp_per_capita\u001b[39m\u001b[38;5;124m'\u001b[39m,\u001b[38;5;124m'\u001b[39m\u001b[38;5;124mgdp_per_capita\u001b[39m\u001b[38;5;124m'\u001b[39m],\n\u001b[0;32m      7\u001b[0m   \u001b[38;5;124m'\u001b[39m\u001b[38;5;124mValues\u001b[39m\u001b[38;5;124m'\u001b[39m:[\u001b[38;5;241m100.200\u001b[39m,\u001b[38;5;241m120\u001b[39m,\u001b[38;5;241m2000\u001b[39m,\u001b[38;5;241m7000\u001b[39m,\u001b[38;5;241m15000\u001b[39m]\n\u001b[0;32m      8\u001b[0m }\n\u001b[1;32m---> 10\u001b[0m df \u001b[38;5;241m=\u001b[39m \u001b[43mpd\u001b[49m\u001b[38;5;241;43m.\u001b[39;49m\u001b[43mDataFrame\u001b[49m\u001b[43m(\u001b[49m\u001b[43md\u001b[49m\u001b[43m,\u001b[49m\u001b[43m \u001b[49m\u001b[43mcolumns\u001b[49m\u001b[38;5;241;43m=\u001b[39;49m\u001b[43m[\u001b[49m\u001b[38;5;124;43m'\u001b[39;49m\u001b[38;5;124;43mCountries\u001b[39;49m\u001b[38;5;124;43m'\u001b[39;49m\u001b[43m,\u001b[49m\u001b[43m \u001b[49m\u001b[38;5;124;43m'\u001b[39;49m\u001b[38;5;124;43mMetrics\u001b[39;49m\u001b[38;5;124;43m'\u001b[39;49m\u001b[43m,\u001b[49m\u001b[43m \u001b[49m\u001b[38;5;124;43m'\u001b[39;49m\u001b[38;5;124;43mValues\u001b[39;49m\u001b[38;5;124;43m'\u001b[39;49m\u001b[43m]\u001b[49m\u001b[43m)\u001b[49m\n\u001b[0;32m     11\u001b[0m \u001b[38;5;28mprint\u001b[39m(\u001b[38;5;124m\"\u001b[39m\u001b[38;5;124mdf: \u001b[39m\u001b[38;5;130;01m\\n\u001b[39;00m\u001b[38;5;124m\"\u001b[39m, df)\n\u001b[0;32m     13\u001b[0m df2 \u001b[38;5;241m=\u001b[39m df\u001b[38;5;241m.\u001b[39mpivot(index\u001b[38;5;241m=\u001b[39m\u001b[38;5;124m'\u001b[39m\u001b[38;5;124mCountries\u001b[39m\u001b[38;5;124m'\u001b[39m, columns\u001b[38;5;241m=\u001b[39m\u001b[38;5;124m'\u001b[39m\u001b[38;5;124mMetrics\u001b[39m\u001b[38;5;124m'\u001b[39m, values\u001b[38;5;241m=\u001b[39m\u001b[38;5;124m'\u001b[39m\u001b[38;5;124mvalues\u001b[39m\u001b[38;5;124m'\u001b[39m)\n",
      "File \u001b[1;32m~\\AppData\\Local\\Packages\\PythonSoftwareFoundation.Python.3.13_qbz5n2kfra8p0\\LocalCache\\local-packages\\Python313\\site-packages\\pandas\\core\\frame.py:778\u001b[0m, in \u001b[0;36mDataFrame.__init__\u001b[1;34m(self, data, index, columns, dtype, copy)\u001b[0m\n\u001b[0;32m    772\u001b[0m     mgr \u001b[38;5;241m=\u001b[39m \u001b[38;5;28mself\u001b[39m\u001b[38;5;241m.\u001b[39m_init_mgr(\n\u001b[0;32m    773\u001b[0m         data, axes\u001b[38;5;241m=\u001b[39m{\u001b[38;5;124m\"\u001b[39m\u001b[38;5;124mindex\u001b[39m\u001b[38;5;124m\"\u001b[39m: index, \u001b[38;5;124m\"\u001b[39m\u001b[38;5;124mcolumns\u001b[39m\u001b[38;5;124m\"\u001b[39m: columns}, dtype\u001b[38;5;241m=\u001b[39mdtype, copy\u001b[38;5;241m=\u001b[39mcopy\n\u001b[0;32m    774\u001b[0m     )\n\u001b[0;32m    776\u001b[0m \u001b[38;5;28;01melif\u001b[39;00m \u001b[38;5;28misinstance\u001b[39m(data, \u001b[38;5;28mdict\u001b[39m):\n\u001b[0;32m    777\u001b[0m     \u001b[38;5;66;03m# GH#38939 de facto copy defaults to False only in non-dict cases\u001b[39;00m\n\u001b[1;32m--> 778\u001b[0m     mgr \u001b[38;5;241m=\u001b[39m \u001b[43mdict_to_mgr\u001b[49m\u001b[43m(\u001b[49m\u001b[43mdata\u001b[49m\u001b[43m,\u001b[49m\u001b[43m \u001b[49m\u001b[43mindex\u001b[49m\u001b[43m,\u001b[49m\u001b[43m \u001b[49m\u001b[43mcolumns\u001b[49m\u001b[43m,\u001b[49m\u001b[43m \u001b[49m\u001b[43mdtype\u001b[49m\u001b[38;5;241;43m=\u001b[39;49m\u001b[43mdtype\u001b[49m\u001b[43m,\u001b[49m\u001b[43m \u001b[49m\u001b[43mcopy\u001b[49m\u001b[38;5;241;43m=\u001b[39;49m\u001b[43mcopy\u001b[49m\u001b[43m,\u001b[49m\u001b[43m \u001b[49m\u001b[43mtyp\u001b[49m\u001b[38;5;241;43m=\u001b[39;49m\u001b[43mmanager\u001b[49m\u001b[43m)\u001b[49m\n\u001b[0;32m    779\u001b[0m \u001b[38;5;28;01melif\u001b[39;00m \u001b[38;5;28misinstance\u001b[39m(data, ma\u001b[38;5;241m.\u001b[39mMaskedArray):\n\u001b[0;32m    780\u001b[0m     \u001b[38;5;28;01mfrom\u001b[39;00m\u001b[38;5;250m \u001b[39m\u001b[38;5;21;01mnumpy\u001b[39;00m\u001b[38;5;21;01m.\u001b[39;00m\u001b[38;5;21;01mma\u001b[39;00m\u001b[38;5;250m \u001b[39m\u001b[38;5;28;01mimport\u001b[39;00m mrecords\n",
      "File \u001b[1;32m~\\AppData\\Local\\Packages\\PythonSoftwareFoundation.Python.3.13_qbz5n2kfra8p0\\LocalCache\\local-packages\\Python313\\site-packages\\pandas\\core\\internals\\construction.py:448\u001b[0m, in \u001b[0;36mdict_to_mgr\u001b[1;34m(data, index, columns, dtype, typ, copy)\u001b[0m\n\u001b[0;32m    444\u001b[0m missing \u001b[38;5;241m=\u001b[39m arrays\u001b[38;5;241m.\u001b[39misna()\n\u001b[0;32m    445\u001b[0m \u001b[38;5;28;01mif\u001b[39;00m index \u001b[38;5;129;01mis\u001b[39;00m \u001b[38;5;28;01mNone\u001b[39;00m:\n\u001b[0;32m    446\u001b[0m     \u001b[38;5;66;03m# GH10856\u001b[39;00m\n\u001b[0;32m    447\u001b[0m     \u001b[38;5;66;03m# raise ValueError if only scalars in dict\u001b[39;00m\n\u001b[1;32m--> 448\u001b[0m     index \u001b[38;5;241m=\u001b[39m \u001b[43m_extract_index\u001b[49m\u001b[43m(\u001b[49m\u001b[43marrays\u001b[49m\u001b[43m[\u001b[49m\u001b[38;5;241;43m~\u001b[39;49m\u001b[43mmissing\u001b[49m\u001b[43m]\u001b[49m\u001b[43m)\u001b[49m\n\u001b[0;32m    449\u001b[0m \u001b[38;5;28;01melse\u001b[39;00m:\n\u001b[0;32m    450\u001b[0m     index \u001b[38;5;241m=\u001b[39m ensure_index(index)\n",
      "File \u001b[1;32m~\\AppData\\Local\\Packages\\PythonSoftwareFoundation.Python.3.13_qbz5n2kfra8p0\\LocalCache\\local-packages\\Python313\\site-packages\\pandas\\core\\internals\\construction.py:677\u001b[0m, in \u001b[0;36m_extract_index\u001b[1;34m(data)\u001b[0m\n\u001b[0;32m    675\u001b[0m lengths \u001b[38;5;241m=\u001b[39m \u001b[38;5;28mlist\u001b[39m(\u001b[38;5;28mset\u001b[39m(raw_lengths))\n\u001b[0;32m    676\u001b[0m \u001b[38;5;28;01mif\u001b[39;00m \u001b[38;5;28mlen\u001b[39m(lengths) \u001b[38;5;241m>\u001b[39m \u001b[38;5;241m1\u001b[39m:\n\u001b[1;32m--> 677\u001b[0m     \u001b[38;5;28;01mraise\u001b[39;00m \u001b[38;5;167;01mValueError\u001b[39;00m(\u001b[38;5;124m\"\u001b[39m\u001b[38;5;124mAll arrays must be of the same length\u001b[39m\u001b[38;5;124m\"\u001b[39m)\n\u001b[0;32m    679\u001b[0m \u001b[38;5;28;01mif\u001b[39;00m have_dicts:\n\u001b[0;32m    680\u001b[0m     \u001b[38;5;28;01mraise\u001b[39;00m \u001b[38;5;167;01mValueError\u001b[39;00m(\n\u001b[0;32m    681\u001b[0m         \u001b[38;5;124m\"\u001b[39m\u001b[38;5;124mMixing dicts with non-Series may lead to ambiguous ordering.\u001b[39m\u001b[38;5;124m\"\u001b[39m\n\u001b[0;32m    682\u001b[0m     )\n",
      "\u001b[1;31mValueError\u001b[0m: All arrays must be of the same length"
     ]
    }
   ],
   "source": [
    "import pandas as pd\n",
    "\n",
    "d = {\n",
    "  'Countries':['A','B','C','A','B','C'],\n",
    "  'Metrics':['population_in_million','population_in_million','population_in_million',\n",
    "             'gdp_per_capita','gdp_per_capita','gdp_per_capita'],\n",
    "  'Values':[100.200,120,2000,7000,15000]\n",
    "}\n",
    "\n",
    "df = pd.DataFrame(d, columns=['Countries', 'Metrics', 'Values'])\n",
    "print(\"df: \\n\", df)\n",
    "\n",
    "df2 = df.pivot(index='Countries', columns='Metrics', values='values')\n",
    "print(\"df2: \\n\", df2)"
   ]
  },
  {
   "cell_type": "markdown",
   "metadata": {},
   "source": [
    "## Regular Expression"
   ]
  },
  {
   "cell_type": "code",
   "execution_count": 22,
   "metadata": {},
   "outputs": [
    {
     "name": "stdout",
     "output_type": "stream",
     "text": [
      "<re.Match object; span=(0, 17), match='The rain in Spain'>\n"
     ]
    }
   ],
   "source": [
    "import re\n",
    "txt = \"The rain in Spain\"\n",
    "\n",
    "x = re.search(\"^The.*Spain$\", txt)\n",
    "if x : print(x)"
   ]
  },
  {
   "cell_type": "markdown",
   "metadata": {},
   "source": [
    "```\n",
    "[] A set of characters \"[a-m]\"\n",
    "\\  Signals a special sequence \"\\d\"\n",
    ".  Any character \"he..o\"\n",
    "^  Begins with \"^hello\"\n",
    "$  Ends with \"plane$\"\n",
    "*  zero or more occurences \"he.*o\"\n",
    "+  One or more occurences \"he.+o\"\n",
    "?  Zero or more occurences \"he.?\n",
    "{} Exactly the specified number of occurences \"he.{2}o\"\n",
    "|  Either or\n",
    "() Capture and group\n",
    "```"
   ]
  }
 ],
 "metadata": {
  "kernelspec": {
   "display_name": "Python 3",
   "language": "python",
   "name": "python3"
  },
  "language_info": {
   "codemirror_mode": {
    "name": "ipython",
    "version": 3
   },
   "file_extension": ".py",
   "mimetype": "text/x-python",
   "name": "python",
   "nbconvert_exporter": "python",
   "pygments_lexer": "ipython3",
   "version": "3.13.2"
  }
 },
 "nbformat": 4,
 "nbformat_minor": 2
}

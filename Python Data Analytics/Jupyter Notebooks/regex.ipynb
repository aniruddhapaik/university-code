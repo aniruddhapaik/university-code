{
 "cells": [
  {
   "cell_type": "markdown",
   "metadata": {},
   "source": [
    "# Regulas Expressions in Python"
   ]
  },
  {
   "cell_type": "markdown",
   "metadata": {},
   "source": [
    "```\n",
    "[] A set of characters \"[a-m]\"\n",
    "\\  Signals a special sequence \"\\d\"\n",
    ".  Any character \"he..o\"\n",
    "^  Begins with \"^hello\"\n",
    "$  Ends with \"plane$\"\n",
    "*  zero or more occurences \"he.*o\"\n",
    "+  One or more occurences \"he.+o\"\n",
    "?  Zero or more occurences \"he.?\n",
    "{} Exactly the specified number of occurences \"he.{2}o\"\n",
    "|  Either or\n",
    "() Capture and group\n",
    "```"
   ]
  },
  {
   "cell_type": "code",
   "execution_count": 1,
   "metadata": {},
   "outputs": [
    {
     "name": "stdout",
     "output_type": "stream",
     "text": [
      "Matched text:  The rain in Spain\n"
     ]
    }
   ],
   "source": [
    "import re\n",
    "txt = \"The rain in Spain\"\n",
    "\n",
    "x = re.search(\"^The.*Spain$\", txt)\n",
    "if x : print(\"Matched text: \", x.group())"
   ]
  },
  {
   "cell_type": "code",
   "execution_count": 2,
   "metadata": {},
   "outputs": [
    {
     "name": "stdout",
     "output_type": "stream",
     "text": [
      "['50', '72']\n"
     ]
    }
   ],
   "source": [
    "import re\n",
    "txt = \"I gave you 50 dollars, 720 cents\"\n",
    "x = re.findall(r\"\\d\\d\", txt) # or \"\\d{2}\"\n",
    "print(x)"
   ]
  },
  {
   "cell_type": "code",
   "execution_count": 3,
   "metadata": {},
   "outputs": [
    {
     "name": "stdout",
     "output_type": "stream",
     "text": [
      "['hello']\n"
     ]
    }
   ],
   "source": [
    "import re\n",
    "txt = \"hello, I gave you 50 dollars, 72 cents\"\n",
    "x = re.findall(r\"he..o\", txt) # or \"he.{2}\"\n",
    "print(x)"
   ]
  },
  {
   "cell_type": "code",
   "execution_count": 4,
   "metadata": {},
   "outputs": [
    {
     "name": "stdout",
     "output_type": "stream",
     "text": [
      "['hello, hecko, 20, heggo, heo']\n",
      "['hello, hecko, 20, heggo, heo']\n"
     ]
    }
   ],
   "source": [
    "import re\n",
    "txt = \"hello, hecko, 20, heggo, heo wazzaap\"\n",
    "x = re.findall(r\"he.*o\", txt)\n",
    "y = re.findall(r\"he.+o\", txt)\n",
    "print(x)\n",
    "print(y)"
   ]
  },
  {
   "cell_type": "code",
   "execution_count": 5,
   "metadata": {},
   "outputs": [
    {
     "name": "stdout",
     "output_type": "stream",
     "text": [
      "['hello', 'hecko', 'heggo', 'heo']\n",
      "['hello', 'hecko', 'heggo']\n"
     ]
    }
   ],
   "source": [
    "import re\n",
    "txt = \"hello, hecko, heggo, heo\"\n",
    "x = re.findall(r\"he.*?o\", txt)\n",
    "y = re.findall(r\"he.+?o\", txt)\n",
    "print(x)\n",
    "print(y)"
   ]
  },
  {
   "cell_type": "code",
   "execution_count": 6,
   "metadata": {},
   "outputs": [
    {
     "name": "stdout",
     "output_type": "stream",
     "text": [
      "['abbbbb']\n",
      "['ab']\n"
     ]
    }
   ],
   "source": [
    "import re\n",
    "text = \"abbbbba\"\n",
    "print(re.findall(r\"a.*b\", text))  \n",
    "print(re.findall(r\"a.*?b\", text)) "
   ]
  },
  {
   "cell_type": "code",
   "execution_count": 7,
   "metadata": {},
   "outputs": [
    {
     "name": "stdout",
     "output_type": "stream",
     "text": [
      "['abbbbb']\n",
      "['abb']\n"
     ]
    }
   ],
   "source": [
    "import re\n",
    "text = \"abbbbba\"\n",
    "print(re.findall(r\"a.+b\", text)) \n",
    "print(re.findall(r\"a.+?b\", text)) "
   ]
  },
  {
   "cell_type": "code",
   "execution_count": 8,
   "metadata": {},
   "outputs": [
    {
     "name": "stdout",
     "output_type": "stream",
     "text": [
      "['aaa', 'aaa']\n",
      "['a', 'a', 'a', 'a', 'a', 'a']\n"
     ]
    }
   ],
   "source": [
    "import re\n",
    "text = \"aaabaaa\"\n",
    "print(re.findall(r\"a{1,3}\", text))  \n",
    "print(re.findall(r\"a{1,3}?\", text))  "
   ]
  },
  {
   "cell_type": "markdown",
   "metadata": {},
   "source": [
    "## Trying Assignment Exercises"
   ]
  },
  {
   "cell_type": "markdown",
   "metadata": {},
   "source": [
    "### Match with any 3 digit number"
   ]
  },
  {
   "cell_type": "code",
   "execution_count": 9,
   "metadata": {},
   "outputs": [
    {
     "name": "stdout",
     "output_type": "stream",
     "text": [
      "['276', '105', '854', '652', '742', '583', '704', '163', '824', '382', '808']\n",
      "['276', '652', '583', '163', '382']\n",
      "['234', '276', '652', '583', '163', '382']\n"
     ]
    }
   ],
   "source": [
    "import re\n",
    "nums = \"3 48 276 1057 8542 19 652 7428 583 91 7042 163 7 8245 382 8080\"\n",
    "numstwo = \"MCA234 48 276 BOB1057 8542 19 652 XYZ7428 583 91 7042 163 7 8245 A382 8080\"\n",
    "\n",
    "x = re.findall(r\"\\d{3}\", nums)\n",
    "y = re.findall(r\"\\b\\d{3}\\b\", nums)\n",
    "z = re.findall(r\"(?<!\\d)\\d{3}(?!\\d)\", numstwo)\n",
    "\n",
    "print(x)\n",
    "print(y)\n",
    "print(z)"
   ]
  },
  {
   "cell_type": "markdown",
   "metadata": {},
   "source": [
    "The `?` in the patterns `(?<!\\d)` and `(?!\\d)` are part of the lookbehind and lookahead assertions, respectively. These assertions are used to specify conditions that must be true for the pattern to match, but the conditions themselves are not included in the match.\n",
    "\n",
    "Here's a breakdown of each part:\n",
    "\n",
    "1. **Negative Lookbehind `(?<!\\d)`**:\n",
    "   - `?<!` is the syntax for a negative lookbehind assertion.\n",
    "   - `\\d` inside the lookbehind asserts that there should not be a digit before the current position.\n",
    "   - So `(?<!\\d)` means \"match the position only if it is not preceded by a digit.\"\n",
    "\n",
    "2. **Three-Digit Number `\\d{3}`**:\n",
    "   - `\\d` matches any digit (0-9).\n",
    "   - `{3}` specifies that exactly three digits should be matched.\n",
    "\n",
    "3. **Negative Lookahead `(?!\\d)`**:\n",
    "   - `?!` is the syntax for a negative lookahead assertion.\n",
    "   - `\\d` inside the lookahead asserts that there should not be a digit after the current position.\n",
    "   - So `(?!\\d)` means \"match the position only if it is not followed by a digit.\"\n",
    "\n",
    "When combined, `(?<!\\d)\\d{3}(?!\\d)` matches exactly three-digit numbers that are not part of longer numbers. This ensures that:\n",
    "- There is no digit immediately before the three-digit number (`(?<!\\d)`).\n",
    "- There is no digit immediately after the three-digit number (`(?!\\d)`).\n",
    "\n",
    "Here's the whole pattern:\n",
    "- `(?<!\\d)`: Negative lookbehind to ensure no digit before.\n",
    "- `\\d{3}`: Exactly three digits.\n",
    "- `(?!\\d)`: Negative lookahead to ensure no digit after.\n",
    "\n",
    "I hope this helps clarify the role of the `?` in the lookbehind and lookahead assertions! Let me know if there's anything else you'd like to know."
   ]
  },
  {
   "cell_type": "markdown",
   "metadata": {},
   "source": [
    "### Match with this kind of number: 24BIT0090"
   ]
  },
  {
   "cell_type": "code",
   "execution_count": 10,
   "metadata": {},
   "outputs": [
    {
     "name": "stdout",
     "output_type": "stream",
     "text": [
      "['24BIT0090']\n",
      "['24BIT0090']\n"
     ]
    }
   ],
   "source": [
    "import re\n",
    "numthree = \"24BIT0090\"\n",
    "numfour = \"some text 24BIT0090 more letters\"\n",
    "\n",
    "y = re.findall(r\"^\\d{2}[A-Z]{3}\\d{4}$\", numthree)\n",
    "z = re.findall(r\"(?<!\\d)\\d{2}[A-Z]{3}\\d{4}(?!\\d)\", numfour)\n",
    "\n",
    "print(y)\n",
    "print(z)"
   ]
  },
  {
   "cell_type": "markdown",
   "metadata": {},
   "source": [
    "### Match with this kind of number: 123-5636-12-231"
   ]
  },
  {
   "cell_type": "code",
   "execution_count": 11,
   "metadata": {},
   "outputs": [
    {
     "name": "stdout",
     "output_type": "stream",
     "text": [
      "['123-5636-12-231']\n",
      "['123-5636-12-231']\n"
     ]
    }
   ],
   "source": [
    "import re\n",
    "numone = \"123-5636-12-231\"\n",
    "numtwo = \"some text 123-5636-12-231 more text\"\n",
    "\n",
    "w = re.findall(r\"^\\d{3}-\\d{4}-\\d{2}-\\d{3}$\", numone)\n",
    "x = re.findall(r\"(?<!\\d)\\d{3}-\\d{4}-\\d{2}-\\d{3}(?!\\d)\", numtwo)\n",
    "\n",
    "print(w)\n",
    "print(x)"
   ]
  },
  {
   "cell_type": "markdown",
   "metadata": {},
   "source": [
    "### Match with 10 digit mobile number with country code"
   ]
  },
  {
   "cell_type": "markdown",
   "metadata": {},
   "source": [
    "```regex\n",
    "^\\+\\d{1,4}\\s?\\d{10}$\n",
    "```\n",
    "\n",
    "Here's a breakdown of the pattern:\n",
    "- `^` asserts the position at the start of the string.\n",
    "- `\\+` matches the literal \"+\" character (for the country code).\n",
    "- `\\d{1,4}` matches 1 to 4 digits (for the country code).\n",
    "- `\\s?` matches zero or one whitespace character (optional space between the country code and the phone number).\n",
    "- `\\d{10}` matches exactly 10 digits (for the phone number).\n",
    "- `$` asserts the position at the end of the string.\n",
    "\n",
    "This pattern will match strings like \"+91 1234567890\" or \"+91234567890\"."
   ]
  },
  {
   "cell_type": "code",
   "execution_count": 12,
   "metadata": {},
   "outputs": [
    {
     "name": "stdout",
     "output_type": "stream",
     "text": [
      "['+917904198245']\n",
      "['+917904198245']\n"
     ]
    }
   ],
   "source": [
    "import re\n",
    "\n",
    "numone = \"+917904198245\"\n",
    "numtwo = \"mobile: +917904198245\"\n",
    "\n",
    "x = re.findall(r\"^\\+\\d{1,4}\\s?\\d{10}$\", numone)\n",
    "y = re.findall(r\"(?<!\\d)\\+\\d{1,4}\\s?\\d{10}(?!\\d)\", numtwo)\n",
    "\n",
    "print(x)\n",
    "print(y)"
   ]
  },
  {
   "cell_type": "markdown",
   "metadata": {},
   "source": [
    "### Match with landline numbers: 0413-2345671"
   ]
  },
  {
   "cell_type": "code",
   "execution_count": 13,
   "metadata": {},
   "outputs": [
    {
     "name": "stdout",
     "output_type": "stream",
     "text": [
      "['0413-2345671']\n"
     ]
    }
   ],
   "source": [
    "import re\n",
    "num = \"0413-2345671\"\n",
    "x = re.findall(r\"^\\d{4}\\-\\d{7}$\",num)\n",
    "print(x)"
   ]
  },
  {
   "cell_type": "markdown",
   "metadata": {},
   "source": [
    "### Match with email IDs"
   ]
  },
  {
   "cell_type": "code",
   "execution_count": 14,
   "metadata": {},
   "outputs": [
    {
     "name": "stdout",
     "output_type": "stream",
     "text": [
      "['example@gmail.com']\n",
      "['test.email@example.com', 'user123@domain.co.in']\n"
     ]
    }
   ],
   "source": [
    "import re\n",
    "num = \"example@gmail.com\"\n",
    "text = \"My email is test.email@example.com and another one is user123@domain.co.in\"\n",
    "x = re.findall(r\"^[a-zA-Z0-9._%+-]+@[a-zA-Z0-9.-]+\\.[a-zA-Z]{2,}$\",num)\n",
    "y = re.findall(r\"\\b([a-zA-Z0-9._%+-]+@[a-zA-Z0-9.-]+\\.[a-zA-Z]{2,})\\b\",text)\n",
    "print(x)\n",
    "print(y)"
   ]
  },
  {
   "cell_type": "markdown",
   "metadata": {},
   "source": [
    "### Match with website address"
   ]
  },
  {
   "cell_type": "code",
   "execution_count": 15,
   "metadata": {},
   "outputs": [
    {
     "name": "stdout",
     "output_type": "stream",
     "text": [
      "['https://google.com', 'http://example.com', 'www.example.com']\n"
     ]
    }
   ],
   "source": [
    "import re\n",
    "addr = \"https://google.com and http://example.com or www.example.com\"\n",
    "x = re.findall(r\"(?:https?://)?[a-zA-Z0-9._+-]+\\.[a-zA-Z]{2,}\",addr)\n",
    "print(x)"
   ]
  },
  {
   "cell_type": "markdown",
   "metadata": {},
   "source": [
    "### Match with American Express cards: starts with 34 or 37 and has 13 digits"
   ]
  },
  {
   "cell_type": "code",
   "execution_count": 3,
   "metadata": {},
   "outputs": [
    {
     "name": "stdout",
     "output_type": "stream",
     "text": [
      "['3412345678901']\n",
      "['3412345678901', '3712345678901']\n",
      "['3412489239847', '3729837398424']\n",
      "['3412489239847', '3729837398424']\n"
     ]
    }
   ],
   "source": [
    "import re\n",
    "card = \"3412345678901\"\n",
    "cards = [\"3412345678901\", \"3712345678901\", \"3612345678901\", \"34123456789012\"]\n",
    "cardstr = \"card numbers: 3412489239847 3729837398424 malformed card: 3448723\"\n",
    "\n",
    "w = re.findall(r\"^3[47]\\d{11}$\", card)\n",
    "x = [card for card in cards if re.findall(r\"^3[47]\\d{11}$\",card)]\n",
    "y = re.findall(r\"(?<!\\d)(?:34|37)\\d{11}(?!\\d)\",cardstr)\n",
    "z = re.findall(r\"3[47]\\d{11}\", cardstr)\n",
    "\n",
    "print(w)\n",
    "print(x)\n",
    "print(y)\n",
    "print(z)"
   ]
  }
 ],
 "metadata": {
  "kernelspec": {
   "display_name": "Python 3",
   "language": "python",
   "name": "python3"
  },
  "language_info": {
   "codemirror_mode": {
    "name": "ipython",
    "version": 3
   },
   "file_extension": ".py",
   "mimetype": "text/x-python",
   "name": "python",
   "nbconvert_exporter": "python",
   "pygments_lexer": "ipython3",
   "version": "3.13.2"
  }
 },
 "nbformat": 4,
 "nbformat_minor": 2
}

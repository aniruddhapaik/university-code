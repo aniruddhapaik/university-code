{
 "cells": [
  {
   "cell_type": "markdown",
   "metadata": {},
   "source": [
    "# Regulas Expressions in Python"
   ]
  },
  {
   "cell_type": "markdown",
   "metadata": {},
   "source": [
    "```\n",
    "[] A set of characters \"[a-m]\"\n",
    "\\  Signals a special sequence \"\\d\"\n",
    ".  Any character \"he..o\"\n",
    "^  Begins with \"^hello\"\n",
    "$  Ends with \"plane$\"\n",
    "*  zero or more occurences \"he.*o\"\n",
    "+  One or more occurences \"he.+o\"\n",
    "?  Zero or more occurences \"he.?\n",
    "{} Exactly the specified number of occurences \"he.{2}o\"\n",
    "|  Either or\n",
    "() Capture and group\n",
    "```"
   ]
  },
  {
   "cell_type": "code",
   "execution_count": 5,
   "metadata": {},
   "outputs": [
    {
     "name": "stdout",
     "output_type": "stream",
     "text": [
      "Matched text:  The rain in Spain\n"
     ]
    }
   ],
   "source": [
    "import re\n",
    "txt = \"The rain in Spain\"\n",
    "\n",
    "x = re.search(\"^The.*Spain$\", txt)\n",
    "if x : print(\"Matched text: \", x.group())"
   ]
  },
  {
   "cell_type": "code",
   "execution_count": 20,
   "metadata": {},
   "outputs": [
    {
     "name": "stdout",
     "output_type": "stream",
     "text": [
      "['50', '72']\n"
     ]
    }
   ],
   "source": [
    "import re\n",
    "txt = \"I gave you 50 dollars, 720 cents\"\n",
    "x = re.findall(r\"\\d\\d\", txt) # or \"\\d{2}\"\n",
    "print(x)"
   ]
  },
  {
   "cell_type": "code",
   "execution_count": 19,
   "metadata": {},
   "outputs": [
    {
     "name": "stdout",
     "output_type": "stream",
     "text": [
      "['hello']\n"
     ]
    }
   ],
   "source": [
    "import re\n",
    "txt = \"hello, I gave you 50 dollars, 72 cents\"\n",
    "x = re.findall(r\"he..o\", txt) # or \"he.{2}\"\n",
    "print(x)"
   ]
  },
  {
   "cell_type": "code",
   "execution_count": 2,
   "metadata": {},
   "outputs": [
    {
     "name": "stdout",
     "output_type": "stream",
     "text": [
      "['hello, hecko, 20, heggo, heo']\n",
      "['hello, hecko, 20, heggo, heo']\n"
     ]
    }
   ],
   "source": [
    "import re\n",
    "txt = \"hello, hecko, 20, heggo, heo wazzaap\"\n",
    "x = re.findall(r\"he.*o\", txt)\n",
    "y = re.findall(r\"he.+o\", txt)\n",
    "print(x)\n",
    "print(y)"
   ]
  },
  {
   "cell_type": "code",
   "execution_count": null,
   "metadata": {},
   "outputs": [
    {
     "name": "stdout",
     "output_type": "stream",
     "text": [
      "\"he.*o\"     ['hello', 'hecko', 'heggo', 'heo']\n",
      "\"he.+o\"     ['hello', 'hecko', 'heggo']\n"
     ]
    }
   ],
   "source": [
    "import re\n",
    "txt = \"hello, hecko, heggo, heo\"\n",
    "x = re.findall(r\"he.*?o\", txt)\n",
    "y = re.findall(r\"he.+?o\", txt)\n",
    "print(x)\n",
    "print(y)"
   ]
  },
  {
   "cell_type": "code",
   "execution_count": null,
   "metadata": {},
   "outputs": [
    {
     "name": "stdout",
     "output_type": "stream",
     "text": [
      "['abbbbb']\n",
      "['ab']\n"
     ]
    }
   ],
   "source": [
    "import re\n",
    "text = \"abbbbba\"\n",
    "print(re.findall(r\"a.*b\", text))  \n",
    "print(re.findall(r\"a.*?b\", text)) "
   ]
  },
  {
   "cell_type": "code",
   "execution_count": null,
   "metadata": {},
   "outputs": [
    {
     "name": "stdout",
     "output_type": "stream",
     "text": [
      "['abbbbb']\n",
      "['abb']\n"
     ]
    }
   ],
   "source": [
    "import re\n",
    "text = \"abbbbba\"\n",
    "print(re.findall(r\"a.+b\", text)) \n",
    "print(re.findall(r\"a.+?b\", text)) "
   ]
  },
  {
   "cell_type": "code",
   "execution_count": 8,
   "metadata": {},
   "outputs": [
    {
     "name": "stdout",
     "output_type": "stream",
     "text": [
      "['aaa', 'aaa']\n",
      "['a', 'a', 'a', 'a', 'a', 'a']\n"
     ]
    }
   ],
   "source": [
    "import re\n",
    "text = \"aaabaaa\"\n",
    "print(re.findall(r\"a{1,3}\", text))  \n",
    "print(re.findall(r\"a{1,3}?\", text))  "
   ]
  },
  {
   "cell_type": "markdown",
   "metadata": {},
   "source": [
    "### Trying Assignment Exercises"
   ]
  },
  {
   "cell_type": "code",
   "execution_count": 29,
   "metadata": {},
   "outputs": [
    {
     "name": "stdout",
     "output_type": "stream",
     "text": [
      "['276', '652', '583', '163', '382']\n",
      "['234', '276', '652', '583', '163', '382']\n"
     ]
    }
   ],
   "source": [
    "# regex for matching any 3 digit number\n",
    "import re\n",
    "nums = \"3 48 276 1057 8542 19 652 7428 583 91 7042 163 7 8245 382 8080\"\n",
    "numstwo = \"MCA234 48 276 BOB1057 8542 19 652 XYZ7428 583 91 7042 163 7 8245 A382 8080\"\n",
    "\n",
    "x = re.findall(r\"\\b\\d{3}\\b\", nums)\n",
    "y = re.findall(r\"(?<!\\d)\\d{3}(?!\\d)\", numstwo)\n",
    "\n",
    "print(x)\n",
    "print(y)"
   ]
  },
  {
   "cell_type": "markdown",
   "metadata": {},
   "source": [
    "The `?` in the patterns `(?<!\\d)` and `(?!\\d)` are part of the lookbehind and lookahead assertions, respectively. These assertions are used to specify conditions that must be true for the pattern to match, but the conditions themselves are not included in the match.\n",
    "\n",
    "Here's a breakdown of each part:\n",
    "\n",
    "1. **Negative Lookbehind `(?<!\\d)`**:\n",
    "   - `?<!` is the syntax for a negative lookbehind assertion.\n",
    "   - `\\d` inside the lookbehind asserts that there should not be a digit before the current position.\n",
    "   - So `(?<!\\d)` means \"match the position only if it is not preceded by a digit.\"\n",
    "\n",
    "2. **Three-Digit Number `\\d{3}`**:\n",
    "   - `\\d` matches any digit (0-9).\n",
    "   - `{3}` specifies that exactly three digits should be matched.\n",
    "\n",
    "3. **Negative Lookahead `(?!\\d)`**:\n",
    "   - `?!` is the syntax for a negative lookahead assertion.\n",
    "   - `\\d` inside the lookahead asserts that there should not be a digit after the current position.\n",
    "   - So `(?!\\d)` means \"match the position only if it is not followed by a digit.\"\n",
    "\n",
    "When combined, `(?<!\\d)\\d{3}(?!\\d)` matches exactly three-digit numbers that are not part of longer numbers. This ensures that:\n",
    "- There is no digit immediately before the three-digit number (`(?<!\\d)`).\n",
    "- There is no digit immediately after the three-digit number (`(?!\\d)`).\n",
    "\n",
    "Here's the whole pattern:\n",
    "- `(?<!\\d)`: Negative lookbehind to ensure no digit before.\n",
    "- `\\d{3}`: Exactly three digits.\n",
    "- `(?!\\d)`: Negative lookahead to ensure no digit after.\n",
    "\n",
    "I hope this helps clarify the role of the `?` in the lookbehind and lookahead assertions! Let me know if there's anything else you'd like to know."
   ]
  }
 ],
 "metadata": {
  "kernelspec": {
   "display_name": "Python 3",
   "language": "python",
   "name": "python3"
  },
  "language_info": {
   "codemirror_mode": {
    "name": "ipython",
    "version": 3
   },
   "file_extension": ".py",
   "mimetype": "text/x-python",
   "name": "python",
   "nbconvert_exporter": "python",
   "pygments_lexer": "ipython3",
   "version": "3.13.2"
  }
 },
 "nbformat": 4,
 "nbformat_minor": 2
}
